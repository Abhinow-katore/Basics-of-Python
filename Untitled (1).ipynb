{
 "cells": [
  {
   "cell_type": "markdown",
   "metadata": {},
   "source": [
    "# Slicing "
   ]
  },
  {
   "cell_type": "code",
   "execution_count": 1,
   "metadata": {},
   "outputs": [],
   "source": [
    "l = \"abhijeet\""
   ]
  },
  {
   "cell_type": "code",
   "execution_count": 3,
   "metadata": {},
   "outputs": [
    {
     "name": "stdout",
     "output_type": "stream",
     "text": [
      "eet\n"
     ]
    }
   ],
   "source": [
    "print(l[5:])"
   ]
  },
  {
   "cell_type": "code",
   "execution_count": 4,
   "metadata": {},
   "outputs": [
    {
     "name": "stdout",
     "output_type": "stream",
     "text": [
      "ahje\n"
     ]
    }
   ],
   "source": [
    "print(l[0::2])"
   ]
  },
  {
   "cell_type": "code",
   "execution_count": 5,
   "metadata": {},
   "outputs": [
    {
     "name": "stdout",
     "output_type": "stream",
     "text": [
      "bhijee\n"
     ]
    }
   ],
   "source": [
    "print(l[1:-1])"
   ]
  },
  {
   "cell_type": "code",
   "execution_count": 6,
   "metadata": {},
   "outputs": [
    {
     "name": "stdout",
     "output_type": "stream",
     "text": [
      "t\n"
     ]
    }
   ],
   "source": [
    "print(l[-1])"
   ]
  },
  {
   "cell_type": "code",
   "execution_count": 9,
   "metadata": {},
   "outputs": [],
   "source": [
    "tinylist = [123, \"lol\"]"
   ]
  },
  {
   "cell_type": "code",
   "execution_count": 11,
   "metadata": {},
   "outputs": [],
   "source": [
    "W = tinylist + list(l)"
   ]
  },
  {
   "cell_type": "code",
   "execution_count": 13,
   "metadata": {},
   "outputs": [
    {
     "name": "stdout",
     "output_type": "stream",
     "text": [
      "[123, 'lol', 'a', 'b', 'h', 'i', 'j', 'e', 'e', 't']\n"
     ]
    }
   ],
   "source": [
    "\n",
    "print(W)"
   ]
  },
  {
   "cell_type": "code",
   "execution_count": 65,
   "metadata": {},
   "outputs": [
    {
     "name": "stdout",
     "output_type": "stream",
     "text": [
      "0th element is  123\n",
      "1th element is  lol\n",
      "2th element is  a\n",
      "3th element is  b\n",
      "4th element is  h\n",
      "5th element is  i\n",
      "6th element is  j\n",
      "7th element is  e\n",
      "8th element is  e\n",
      "9th element is  t\n"
     ]
    }
   ],
   "source": [
    "x = -1\n",
    "for w in W:\n",
    "    x+=1\n",
    "    print(f\"{x}th element is  {w}\" )"
   ]
  },
  {
   "cell_type": "code",
   "execution_count": 47,
   "metadata": {},
   "outputs": [
    {
     "name": "stdout",
     "output_type": "stream",
     "text": [
      "{'name': 'Abhijeet', 'work': 'Data Science enthusiast'}\n"
     ]
    }
   ],
   "source": [
    "dic1={\"name\": 'Abhijeet'}\n",
    "dic1[\"work\"]=  'Data Science enthusiast'\n",
    "# (f\" my name is dic1[\"name\"] I'm future{dic1[\"work\"]}.\" )\n",
    "print(dic1)"
   ]
  },
  {
   "cell_type": "code",
   "execution_count": 48,
   "metadata": {},
   "outputs": [
    {
     "name": "stdout",
     "output_type": "stream",
     "text": [
      " I'm Abhijeet a Data Science enthusiast\n"
     ]
    }
   ],
   "source": [
    " print(f\" I'm\", dic1[\"name\"], \"a\", dic1[\"work\"])"
   ]
  },
  {
   "cell_type": "code",
   "execution_count": 49,
   "metadata": {},
   "outputs": [
    {
     "data": {
      "text/plain": [
       "'Abhijeet'"
      ]
     },
     "execution_count": 49,
     "metadata": {},
     "output_type": "execute_result"
    }
   ],
   "source": [
    "dic1[\"name\"]"
   ]
  },
  {
   "cell_type": "code",
   "execution_count": 50,
   "metadata": {},
   "outputs": [
    {
     "name": "stdout",
     "output_type": "stream",
     "text": [
      " I'm Abhijeet, a  Data Science enthusiast\n"
     ]
    }
   ],
   "source": [
    " print(f\" I'm {str(dic1['name'])}, a  {str(dic1['work'])}\")"
   ]
  },
  {
   "cell_type": "code",
   "execution_count": 51,
   "metadata": {},
   "outputs": [
    {
     "name": "stdout",
     "output_type": "stream",
     "text": [
      "True\n"
     ]
    }
   ],
   "source": [
    "x = 100\n",
    "print(x == 100)"
   ]
  },
  {
   "cell_type": "code",
   "execution_count": 52,
   "metadata": {},
   "outputs": [
    {
     "name": "stdout",
     "output_type": "stream",
     "text": [
      "True\n"
     ]
    }
   ],
   "source": [
    "if (x != 100):\n",
    "    print(False)\n",
    "else:\n",
    "    print(True)"
   ]
  },
  {
   "cell_type": "code",
   "execution_count": null,
   "metadata": {},
   "outputs": [],
   "source": [
    "class Circle:\n",
    "    "
   ]
  },
  {
   "cell_type": "code",
   "execution_count": 77,
   "metadata": {},
   "outputs": [
    {
     "name": "stdout",
     "output_type": "stream",
     "text": [
      "11\n"
     ]
    }
   ],
   "source": [
    "l = [3, 6, 4, 7, 10, 11]\n",
    "\n",
    "largest = 0\n",
    "for x in l:\n",
    "   \n",
    "    if(largest<x):\n",
    "        largest = x\n",
    "print(largest)\n",
    "        "
   ]
  },
  {
   "cell_type": "code",
   "execution_count": 78,
   "metadata": {},
   "outputs": [
    {
     "name": "stdout",
     "output_type": "stream",
     "text": [
      "7\n",
      "['7']\n",
      "5\n",
      "['7', '5']\n",
      "3\n",
      "['7', '5', '3']\n"
     ]
    }
   ],
   "source": [
    "l = []\n",
    "for x in range(3):\n",
    "    l.append(input())\n",
    "    print(l)\n"
   ]
  },
  {
   "cell_type": "code",
   "execution_count": 76,
   "metadata": {},
   "outputs": [
    {
     "name": "stdout",
     "output_type": "stream",
     "text": [
      "11\n"
     ]
    }
   ],
   "source": [
    "\n",
    "largest = 0\n",
    "for x in l:\n",
    "    w = int(x)\n",
    "    \n",
    "    if(largest<w):\n",
    "        largest = w\n",
    "print(largest)\n",
    "        "
   ]
  },
  {
   "cell_type": "code",
   "execution_count": 79,
   "metadata": {
    "scrolled": true
   },
   "outputs": [
    {
     "name": "stdout",
     "output_type": "stream",
     "text": [
      ">>5\n",
      "9\n",
      "7\n",
      "6\n",
      "4\n",
      "3\n",
      "largest value is\n",
      "9\n",
      "['9', '7', '6', '4', '3']\n"
     ]
    }
   ],
   "source": [
    "l = []\n",
    "d = int(input(\">>\"))\n",
    "for x in range(d):\n",
    "    l.append(input())\n",
    "    \n",
    "    \n",
    "\n",
    "largest = 0\n",
    "for x in l:\n",
    "    w = int(x)\n",
    "    \n",
    "    if(largest<w):\n",
    "        largest = w\n",
    "print(\"largest value is\")        \n",
    "print(largest)\n",
    "print(l)\n",
    "        "
   ]
  }
 ],
 "metadata": {
  "kernelspec": {
   "display_name": "Python 3",
   "language": "python",
   "name": "python3"
  },
  "language_info": {
   "codemirror_mode": {
    "name": "ipython",
    "version": 3
   },
   "file_extension": ".py",
   "mimetype": "text/x-python",
   "name": "python",
   "nbconvert_exporter": "python",
   "pygments_lexer": "ipython3",
   "version": "3.8.2"
  }
 },
 "nbformat": 4,
 "nbformat_minor": 4
}
